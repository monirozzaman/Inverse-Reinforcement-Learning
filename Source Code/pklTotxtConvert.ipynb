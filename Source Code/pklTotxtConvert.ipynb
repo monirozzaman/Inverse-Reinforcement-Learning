{
 "cells": [
  {
   "cell_type": "code",
   "execution_count": 4,
   "metadata": {},
   "outputs": [
    {
     "name": "stdout",
     "output_type": "stream",
     "text": [
      "Copied\n"
     ]
    }
   ],
   "source": [
    "import pickle\n",
    "trajectories=pickle.load(open(\"D:/Software Engineering/thesis/Driver/mdp_trajs_07.pkl\".format('07'),'rb'))\n",
    "savepath=\"D:/Software Engineering/thesis/Driver/000.txt\"\n",
    "with open (savepath,'w')as w:\n",
    "    w.write(\"%s\"%trajectories)\n",
    "print('Copied')   "
   ]
  },
  {
   "cell_type": "code",
   "execution_count": 5,
   "metadata": {},
   "outputs": [
    {
     "name": "stdout",
     "output_type": "stream",
     "text": [
      "Copied\n"
     ]
    }
   ],
   "source": [
    "import pickle\n",
    "trajectories=pickle.load(open(\"D:/Software Engineering/thesis/Driver/profile_info.pkl\".format('07'),'rb'))\n",
    "savepath=\"D:/Software Engineering/thesis/Driver/profileInfo.txt\"\n",
    "with open (savepath,'w')as w:\n",
    "    w.write(\"%s\"%trajectories)\n",
    "print('Copied')   "
   ]
  },
  {
   "cell_type": "code",
   "execution_count": 6,
   "metadata": {},
   "outputs": [
    {
     "name": "stdout",
     "output_type": "stream",
     "text": [
      "Copied\n"
     ]
    }
   ],
   "source": [
    "import pickle\n",
    "trajectories=pickle.load(open(\"D:/Software Engineering/thesis/Driver/habit_features.pkl\".format('07'),'rb'))\n",
    "savepath=\"D:/Software Engineering/thesis/Driver/habitFeatures.txt\"\n",
    "with open (savepath,'w')as w:\n",
    "    w.write(\"%s\"%trajectories)\n",
    "print('Copied')       "
   ]
  }
 ],
 "metadata": {
  "kernelspec": {
   "display_name": "Python 3",
   "language": "python",
   "name": "python3"
  },
  "language_info": {
   "codemirror_mode": {
    "name": "ipython",
    "version": 3
   },
   "file_extension": ".py",
   "mimetype": "text/x-python",
   "name": "python",
   "nbconvert_exporter": "python",
   "pygments_lexer": "ipython3",
   "version": "3.7.4"
  }
 },
 "nbformat": 4,
 "nbformat_minor": 4
}

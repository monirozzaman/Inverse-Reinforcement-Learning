{
 "cells": [
  {
   "cell_type": "code",
   "execution_count": null,
   "metadata": {},
   "outputs": [],
   "source": [
    "#  import pickle\n",
    "#  trajectories=pickle.load(open(\"D:/Software Engineering/thesis/Driver/mdp_trajs_07.pkl\",'rb'))\n",
    "#  print('Lenght Of traj:'+str(len(trajectories)))"
   ]
  },
  {
   "cell_type": "code",
   "execution_count": 11,
   "metadata": {},
   "outputs": [
    {
     "name": "stdout",
     "output_type": "stream",
     "text": [
      "MinMaxScaler(copy=True, feature_range=(0, 1))\n",
      "-----------------\n",
      "[ 1. 18.]\n",
      "-----------------\n",
      "[[0.   0.  ]\n",
      " [0.25 0.25]\n",
      " [0.5  0.5 ]\n",
      " [1.   1.  ]]\n",
      "-----------------\n",
      "[[1.5 0. ]]\n",
      "-----------------\n"
     ]
    }
   ],
   "source": [
    "from sklearn.preprocessing import MinMaxScaler\n",
    "data = [[-1, 2], [-0.5, 6], [0, 10], [1, 18]]\n",
    "scaler = MinMaxScaler()\n",
    "scaler=scaler.fit(data)\n",
    "print(scaler.fit(data))\n",
    "print('-----------------')\n",
    "MinMaxScaler()\n",
    "print(scaler.data_max_)\n",
    "print('-----------------')\n",
    "print(scaler.transform(data))\n",
    "print('-----------------')\n",
    "print(scaler.transform([[2, 2]]))\n",
    "print('-----------------')\n"
   ]
  },
  {
   "cell_type": "code",
   "execution_count": 3,
   "metadata": {},
   "outputs": [],
   "source": [
    "# #driver key\n",
    "# for driverKey in trajectories:\n",
    "#     print('driverKey '+driverKey)"
   ]
  },
  {
   "cell_type": "code",
   "execution_count": 4,
   "metadata": {},
   "outputs": [],
   "source": [
    "# word='wwww'\n",
    "# action='|'.join(map(str,word[1:4]))\n",
    "# print(action)"
   ]
  },
  {
   "cell_type": "code",
   "execution_count": 5,
   "metadata": {},
   "outputs": [],
   "source": [
    "# #Data trajs of st85 driver\n",
    "# for trajs in trajectories['st85']:\n",
    "#     print(trajs)"
   ]
  },
  {
   "cell_type": "code",
   "execution_count": 6,
   "metadata": {},
   "outputs": [],
   "source": [
    "# #Data trajs of st85 driver\n",
    "# for monthValue in trajs:\n",
    "#     print(monthValue)"
   ]
  }
 ],
 "metadata": {
  "kernelspec": {
   "display_name": "Python 3",
   "language": "python",
   "name": "python3"
  },
  "language_info": {
   "codemirror_mode": {
    "name": "ipython",
    "version": 3
   },
   "file_extension": ".py",
   "mimetype": "text/x-python",
   "name": "python",
   "nbconvert_exporter": "python",
   "pygments_lexer": "ipython3",
   "version": "3.7.4"
  }
 },
 "nbformat": 4,
 "nbformat_minor": 4
}

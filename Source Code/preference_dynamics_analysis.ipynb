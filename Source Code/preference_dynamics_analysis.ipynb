{
 "cells": [
  {
   "cell_type": "code",
   "execution_count": 5,
   "metadata": {
    "collapsed": false
   },
   "outputs": [],
   "source": [
    "import pickle\n",
    "from scipy import stats\n",
    "import os\n",
    "from matplotlib import pyplot as plt"
   ]
  },
  {
   "cell_type": "code",
   "execution_count": 12,
   "metadata": {
    "collapsed": true
   },
   "outputs": [],
   "source": [
    "def construct_ttest_samples(plates,alpha,from_month,to_month):\n",
    "    t_list = []\n",
    "    print('ttest between {} and {}:'.format(from_month,to_month))\n",
    "    two_samples_all_features = [[[],[]] for i in range(10)]#[[[sample set 0(len(plates))],[sample set 1(len(plates))]],...,]\n",
    "    k = 0\n",
    "    for plate in plates[:]:\n",
    "        k += 1\n",
    "        if not(os.path.exists('./theta_irl/re_'+from_month+str(plate)+'.pkl') and os.path.exists('./theta_irl/re_'+to_month+str(plate)+'.pkl')):\n",
    "            continue\n",
    "        re_07 = pickle.load(open('./theta_irl/re_'+from_month+str(plate)+'.pkl','rb'))\n",
    "        re_12 = pickle.load(open('./theta_irl/re_'+to_month+str(plate)+'.pkl','rb'))\n",
    "        for f_i in range(10):\n",
    "            two_samples_all_features[f_i][0].append(re_07[f_i])#sample set 0\n",
    "            two_samples_all_features[f_i][1].append(re_12[f_i])#sample set 1\n",
    "    diff_sample_all_feature = []\n",
    "    for two_samples in two_samples_all_features:\n",
    "        diff_sample = [two_samples[1][i]-two_samples[0][i] for i in range(len(two_samples[0]))]\n",
    "        diff_sample_all_feature.append(diff_sample)\n",
    "    t_score_line = stats.t.ppf(1-alpha/2, len(plates)-1)\n",
    "    for diff_sample in diff_sample_all_feature:\n",
    "        t,p = stats.ttest_1samp(diff_sample,0.0)\n",
    "        t_list.append(t)\n",
    "        if(abs(t)>t_score_line):\n",
    "            print('fail',t,p)\n",
    "        else:\n",
    "            print('pass',t,p)\n",
    "    return t_list"
   ]
  },
  {
   "cell_type": "code",
   "execution_count": 16,
   "metadata": {
    "collapsed": false,
    "scrolled": true
   },
   "outputs": [],
   "source": [
    "top_sample_plates = ['si'+ str(b) for b in range(200)]\n",
    "t_list = construct_ttest_samples(top_sample_plates,0.05, '07','12')"
   ]
  },
  {
   "cell_type": "code",
   "execution_count": 17,
   "metadata": {
    "collapsed": false
   },
   "outputs": [],
   "source": [
    "mid_sample_plates = ['st'+ str(b) for b in range(200)]\n",
    "t_list = construct_ttest_samples(mid_sample_plates,0.05, '07','12')"
   ]
  }
 ],
 "metadata": {
  "kernelspec": {
   "display_name": "Python 3",
   "language": "python",
   "name": "python3"
  },
  "language_info": {
   "codemirror_mode": {
    "name": "ipython",
    "version": 3
   },
   "file_extension": ".py",
   "mimetype": "text/x-python",
   "name": "python",
   "nbconvert_exporter": "python",
   "pygments_lexer": "ipython3",
   "version": "3.4.3"
  }
 },
 "nbformat": 4,
 "nbformat_minor": 1
}
